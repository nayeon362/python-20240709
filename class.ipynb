{
 "cells": [
  {
   "cell_type": "markdown",
   "metadata": {},
   "source": [
    "### 클래스\n",
    "객체에 대한 정의 같은 속성 혹은 기능의 집합\n",
    "```python\n",
    "class 클래스명():\n",
    "    def__init__(self, 매개변수1, ...):\n",
    "       self.속성1 = 속성값1\n",
    "       ...\n",
    "\n",
    "    def 메서드명(self)\n",
    "        ...\n",
    "```           "
   ]
  },
  {
   "cell_type": "code",
   "execution_count": 3,
   "metadata": {},
   "outputs": [],
   "source": [
    "class Human():\n",
    "    def __init__(self, name, age):\n",
    "       self.name = name\n",
    "       self.age = age\n",
    "    \n",
    "    def greet(self):\n",
    "        print(f'{self.name}이 인사를 합니다.')"
   ]
  },
  {
   "cell_type": "markdown",
   "metadata": {},
   "source": [
    "##### 클래스와 인스턴스 생성\n",
    "```python\n",
    "변수 = 클래스명(매개변수, ...)"
   ]
  },
  {
   "cell_type": "code",
   "execution_count": null,
   "metadata": {},
   "outputs": [],
   "source": [
    "human1 = Human('홍길동', 20)"
   ]
  },
  {
   "cell_type": "code",
   "execution_count": null,
   "metadata": {},
   "outputs": [],
   "source": [
    "human1.name"
   ]
  },
  {
   "cell_type": "code",
   "execution_count": null,
   "metadata": {},
   "outputs": [],
   "source": [
    "human1.greet"
   ]
  },
  {
   "cell_type": "markdown",
   "metadata": {},
   "source": [
    "##### 클래스 상속\n",
    "이미 정의된 클래스를 재사용하는 기법\n",
    "코드 재사용성을 높여서 코드중복 제거, 유지보수성을 향상\n",
    "```python\n",
    "class 클래스명(부모클래스)\n",
    "    def __init__(self, 매개변수...):\n",
    "       super(자식클래스명, self).__init____(매개변수...)\n",
    "       ...\n",
    "```\n"
   ]
  },
  {
   "cell_type": "code",
   "execution_count": 13,
   "metadata": {},
   "outputs": [],
   "source": [
    "class SalesMan(Human):\n",
    "    def __init__(self, name, age):\n",
    "       super(SalesMan, self).__init__(name, age)\n",
    "       self.sales = '5억'\n",
    "\n",
    "    def sale(self):\n",
    "        print(f'{self.name}이 {self.sales}만큼 매출을 달성했습니다.')   \n",
    "       "
   ]
  },
  {
   "cell_type": "code",
   "execution_count": 14,
   "metadata": {},
   "outputs": [],
   "source": [
    "salesMan1 = SalesMan('이성계', 56)\n"
   ]
  },
  {
   "cell_type": "code",
   "execution_count": 15,
   "metadata": {},
   "outputs": [
    {
     "data": {
      "text/plain": [
       "'5억'"
      ]
     },
     "execution_count": 15,
     "metadata": {},
     "output_type": "execute_result"
    }
   ],
   "source": [
    "salesMan1.sales"
   ]
  },
  {
   "cell_type": "code",
   "execution_count": 16,
   "metadata": {},
   "outputs": [
    {
     "name": "stdout",
     "output_type": "stream",
     "text": [
      "이성계이 5억만큼 매출을 달성했습니다.\n"
     ]
    }
   ],
   "source": [
    "salesMan1.sale( )"
   ]
  },
  {
   "cell_type": "markdown",
   "metadata": {},
   "source": [
    "##### 메서드 오버로딩과 오버라이딩\n",
    "오버로딩 : 같은 이름의 메서드를 매개변수의 조합을 다르게하여 여러개 정의하는 것, 파이썬에서는 오버로딩을 지원하지 않음\n",
    "오버라이딩 : 부모 클래스의 메서드를 재정의하는 것"
   ]
  },
  {
   "cell_type": "code",
   "execution_count": 21,
   "metadata": {},
   "outputs": [],
   "source": [
    "class Developer(Human):\n",
    "    def __init__(self, name, age):\n",
    "       super(Developer, self).__init__(name, age)\n",
    "       self.skils = []\n",
    "    \n",
    "    def greet(self):\n",
    "        print(f'{self.name}이 인사를 합니다. 안녕하세요.')"
   ]
  },
  {
   "cell_type": "code",
   "execution_count": 22,
   "metadata": {},
   "outputs": [],
   "source": [
    "developer1 = Developer('이도', 32)"
   ]
  },
  {
   "cell_type": "code",
   "execution_count": 23,
   "metadata": {},
   "outputs": [
    {
     "name": "stdout",
     "output_type": "stream",
     "text": [
      "이도이 인사를 합니다. 안녕하세요.\n"
     ]
    }
   ],
   "source": [
    "developer1.greet()"
   ]
  },
  {
   "cell_type": "markdown",
   "metadata": {},
   "source": [
    "##### 특수 메서드\n",
    "파이썬 클래스에서 제공하는 __메서드명__ 형태의 특수한 메서드\n",
    "```python\n",
    "__repr__(self) # 인스턴스 자체 출력시 표현할 방법\n",
    "__str__(self) # 인스턴스를 문자열로 형변환 시 표현할 방법\n",
    "__getietm__(self, key) # 인스턴스를 딕셔너리와 같이 인덱싱 기법을 사용할 수 있도록 하는 방법\n",
    "사용할 수 있도록 하는 방법\n",
    "```"
   ]
  },
  {
   "cell_type": "code",
   "execution_count": 38,
   "metadata": {},
   "outputs": [],
   "source": [
    "class King:\n",
    "    def __init__(self, number, name, ho):\n",
    "       self.number = number\n",
    "       self.name = name\n",
    "       self.ho = ho\n",
    "    def __repr__(self):\n",
    "        return f'Kingnaem - {self.name} / ho - {self.ho} / number - {self.number}'\n",
    "\n",
    "    def __str__(self):\n",
    "        return f'이름 : {self.name} / 호 : {self.ho} / 순서 : {self.number}'\n",
    "    \n",
    "    def __getitem__(self, key):\n",
    "        if key  == 'number':\n",
    "            return self.number\n",
    "        if key == 'name':\n",
    "            return self.name\n",
    "        if key == 'ho' :\n",
    "            return self.ho"
   ]
  },
  {
   "cell_type": "code",
   "execution_count": 29,
   "metadata": {},
   "outputs": [],
   "source": [
    "seajong = King(4, '이도', '세종')"
   ]
  },
  {
   "cell_type": "code",
   "execution_count": 30,
   "metadata": {},
   "outputs": [
    {
     "data": {
      "text/plain": [
       "Kingnaem - 이도 / ho - 세종 / number - 4"
      ]
     },
     "execution_count": 30,
     "metadata": {},
     "output_type": "execute_result"
    }
   ],
   "source": [
    "seajong"
   ]
  },
  {
   "cell_type": "code",
   "execution_count": 31,
   "metadata": {},
   "outputs": [
    {
     "data": {
      "text/plain": [
       "'이름 : 이도 / 호 : 세종 / 순서 : 4'"
      ]
     },
     "execution_count": 31,
     "metadata": {},
     "output_type": "execute_result"
    }
   ],
   "source": [
    "str(seajong)"
   ]
  },
  {
   "cell_type": "code",
   "execution_count": 32,
   "metadata": {},
   "outputs": [
    {
     "data": {
      "text/plain": [
       "'이도'"
      ]
     },
     "execution_count": 32,
     "metadata": {},
     "output_type": "execute_result"
    }
   ],
   "source": [
    "seajong['name']"
   ]
  },
  {
   "cell_type": "markdown",
   "metadata": {},
   "source": [
    "### 외장 패키지 (라이브러리)\n",
    "외장 패키지를 설치하기 위해서는 pip로 패키지를 설치해야함\n",
    "```bash\n",
    "pip install 패키지명\n",
    "pip install scikit-learn\n",
    "```\n",
    "설치한 패키지를 해당 파일에서 사용하고자 한다면 먼저 임포트가 필요\n",
    "```python\n",
    "import 패키지명\n",
    "import 패키지명 as 별명\n",
    "```\n"
   ]
  },
  {
   "cell_type": "code",
   "execution_count": 33,
   "metadata": {},
   "outputs": [],
   "source": [
    "import sklearn\n",
    "import sklearn as sk"
   ]
  },
  {
   "cell_type": "markdown",
   "metadata": {},
   "source": [
    "패키지에 포함된 정보를 보고 싶으면 dir() 내장 함수를 사용"
   ]
  },
  {
   "cell_type": "code",
   "execution_count": null,
   "metadata": {},
   "outputs": [],
   "source": [
    "dir(sk) "
   ]
  },
  {
   "cell_type": "markdown",
   "metadata": {},
   "source": [
    "패키지 내부의 다른 패키지만 임포트하고자 하면 패키 지명. 하위 패키지로 임포트\n",
    "``python\n",
    "import 패키지명.하위패키지명\n",
    "```"
   ]
  },
  {
   "cell_type": "code",
   "execution_count": 34,
   "metadata": {},
   "outputs": [],
   "source": [
    "import sklearn.preprocessing"
   ]
  },
  {
   "cell_type": "markdown",
   "metadata": {},
   "source": [
    "패키지의 구성요소 중 특정한 요소만 사용하고자 할 때 선택적으로 임포트 할 수 있음\n",
    "```python\n",
    "for 패키지명 import 구성요소\n",
    "```"
   ]
  },
  {
   "cell_type": "code",
   "execution_count": 35,
   "metadata": {},
   "outputs": [],
   "source": [
    "from sklearn import linear_model"
   ]
  },
  {
   "cell_type": "code",
   "execution_count": 40,
   "metadata": {},
   "outputs": [],
   "source": [
    "from sklearn import *"
   ]
  },
  {
   "cell_type": "code",
   "execution_count": 41,
   "metadata": {},
   "outputs": [
    {
     "ename": "NameError",
     "evalue": "name 'logger' is not defined",
     "output_type": "error",
     "traceback": [
      "\u001b[1;31m---------------------------------------------------------------------------\u001b[0m",
      "\u001b[1;31mNameError\u001b[0m                                 Traceback (most recent call last)",
      "Cell \u001b[1;32mIn[41], line 1\u001b[0m\n\u001b[1;32m----> 1\u001b[0m \u001b[43mlogger\u001b[49m\n",
      "\u001b[1;31mNameError\u001b[0m: name 'logger' is not defined"
     ]
    }
   ],
   "source": []
  }
 ],
 "metadata": {
  "kernelspec": {
   "display_name": "Python 3",
   "language": "python",
   "name": "python3"
  },
  "language_info": {
   "codemirror_mode": {
    "name": "ipython",
    "version": 3
   },
   "file_extension": ".py",
   "mimetype": "text/x-python",
   "name": "python",
   "nbconvert_exporter": "python",
   "pygments_lexer": "ipython3",
   "version": "3.12.4"
  }
 },
 "nbformat": 4,
 "nbformat_minor": 2
}
